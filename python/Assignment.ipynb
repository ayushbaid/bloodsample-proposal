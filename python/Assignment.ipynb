{
 "cells": [
  {
   "cell_type": "markdown",
   "metadata": {},
   "source": [
    "## Steps for processing\n",
    "* Convert to <a href = \"https://en.wikipedia.org/wiki/Lab_color_space\">l\\*a\\*b\\* colorspace</a>. Positive values of a\\* represent red/magenta color and is suitable to identify the blood samples.\n",
    "* Apply <a href = \"https://en.wikipedia.org/wiki/Otsu%27s_method\">Otsu's thresholding</a> method to the a\\* channel. As the blood samples will have higher a* values that all other portions of the image, a bimodal assumption ans hence otsu's thresholding will give us 1 for regions with high a* (most of which will be the blood samples' and zero otherwise. (a* channel is aImg, and otsu's thresholded image is otsu_img in the code)\n",
    "* Find connected components in the otsu_img using connectedComponentsWithStats() function. All the blood blobs will be covered along with some other regions. In the current example, the connected components are the background (single region), 8 blobs corresponding to blood (C1's region will not be identified as it has absence of blood), and some other smaller blobs due to some spread of blood in small regions\n",
    "* Using the observation mentioned above, we filter the connected regions depending upon the area. Additional criteria can be convexity, eccentricity, and the color of the connected componenents\n",
    "* The centroids of the blobs are processed and each blob is assigned a vertex in the 3x3 grid. As the blob corresponding to C1 is missing, estimate its center using the rectangular property of the grid\n",
    "* Use square masks for each blob and get the gray scale intensities for each of them. Solve for the standard curve estimate using linear regression on the gray scale intensities and the log-conecetration.\n",
    "* Estimate the concentration of QC1,QC2 and the objective sample using the standard curve parameters"
   ]
  },
  {
   "cell_type": "code",
   "execution_count": 2,
   "metadata": {
    "collapsed": false
   },
   "outputs": [
    {
     "ename": "RuntimeError",
     "evalue": "module compiled against API version a but this version of numpy is 9",
     "output_type": "error",
     "traceback": [
      "\u001b[1;31m---------------------------------------------------------------------------\u001b[0m",
      "\u001b[1;31mRuntimeError\u001b[0m                              Traceback (most recent call last)",
      "\u001b[1;31mRuntimeError\u001b[0m: module compiled against API version a but this version of numpy is 9"
     ]
    },
    {
     "ename": "ImportError",
     "evalue": "numpy.core.multiarray failed to import",
     "output_type": "error",
     "traceback": [
      "\u001b[1;31m---------------------------------------------------------------------------\u001b[0m",
      "\u001b[1;31mImportError\u001b[0m                               Traceback (most recent call last)",
      "\u001b[1;32m<ipython-input-2-aeeca38a0cd7>\u001b[0m in \u001b[0;36m<module>\u001b[1;34m()\u001b[0m\n\u001b[0;32m      1\u001b[0m \u001b[1;32mimport\u001b[0m \u001b[0mcv2\u001b[0m\u001b[1;33m\u001b[0m\u001b[0m\n\u001b[0;32m      2\u001b[0m \u001b[1;32mimport\u001b[0m \u001b[0mnumpy\u001b[0m \u001b[1;32mas\u001b[0m \u001b[0mnp\u001b[0m\u001b[1;33m\u001b[0m\u001b[0m\n\u001b[1;32m----> 3\u001b[1;33m \u001b[1;32mimport\u001b[0m \u001b[0mmatplotlib\u001b[0m\u001b[1;33m.\u001b[0m\u001b[0mpyplot\u001b[0m \u001b[1;32mas\u001b[0m \u001b[0mplt\u001b[0m\u001b[1;33m\u001b[0m\u001b[0m\n\u001b[0m\u001b[0;32m      4\u001b[0m \u001b[0mget_ipython\u001b[0m\u001b[1;33m(\u001b[0m\u001b[1;33m)\u001b[0m\u001b[1;33m.\u001b[0m\u001b[0mmagic\u001b[0m\u001b[1;33m(\u001b[0m\u001b[1;34m'matplotlib inline'\u001b[0m\u001b[1;33m)\u001b[0m\u001b[1;33m\u001b[0m\u001b[0m\n",
      "\u001b[1;32m/usr/local/lib/python3.4/dist-packages/matplotlib/pyplot.py\u001b[0m in \u001b[0;36m<module>\u001b[1;34m()\u001b[0m\n\u001b[0;32m     27\u001b[0m \u001b[1;32mfrom\u001b[0m \u001b[0mcycler\u001b[0m \u001b[1;32mimport\u001b[0m \u001b[0mcycler\u001b[0m\u001b[1;33m\u001b[0m\u001b[0m\n\u001b[0;32m     28\u001b[0m \u001b[1;32mimport\u001b[0m \u001b[0mmatplotlib\u001b[0m\u001b[1;33m\u001b[0m\u001b[0m\n\u001b[1;32m---> 29\u001b[1;33m \u001b[1;32mimport\u001b[0m \u001b[0mmatplotlib\u001b[0m\u001b[1;33m.\u001b[0m\u001b[0mcolorbar\u001b[0m\u001b[1;33m\u001b[0m\u001b[0m\n\u001b[0m\u001b[0;32m     30\u001b[0m \u001b[1;32mfrom\u001b[0m \u001b[0mmatplotlib\u001b[0m \u001b[1;32mimport\u001b[0m \u001b[0mstyle\u001b[0m\u001b[1;33m\u001b[0m\u001b[0m\n\u001b[0;32m     31\u001b[0m \u001b[1;32mfrom\u001b[0m \u001b[0mmatplotlib\u001b[0m \u001b[1;32mimport\u001b[0m \u001b[0m_pylab_helpers\u001b[0m\u001b[1;33m,\u001b[0m \u001b[0minteractive\u001b[0m\u001b[1;33m\u001b[0m\u001b[0m\n",
      "\u001b[1;32m/usr/local/lib/python3.4/dist-packages/matplotlib/colorbar.py\u001b[0m in \u001b[0;36m<module>\u001b[1;34m()\u001b[0m\n\u001b[0;32m     30\u001b[0m \u001b[1;33m\u001b[0m\u001b[0m\n\u001b[0;32m     31\u001b[0m \u001b[1;32mimport\u001b[0m \u001b[0mmatplotlib\u001b[0m \u001b[1;32mas\u001b[0m \u001b[0mmpl\u001b[0m\u001b[1;33m\u001b[0m\u001b[0m\n\u001b[1;32m---> 32\u001b[1;33m \u001b[1;32mimport\u001b[0m \u001b[0mmatplotlib\u001b[0m\u001b[1;33m.\u001b[0m\u001b[0martist\u001b[0m \u001b[1;32mas\u001b[0m \u001b[0mmartist\u001b[0m\u001b[1;33m\u001b[0m\u001b[0m\n\u001b[0m\u001b[0;32m     33\u001b[0m \u001b[1;32mimport\u001b[0m \u001b[0mmatplotlib\u001b[0m\u001b[1;33m.\u001b[0m\u001b[0mcbook\u001b[0m \u001b[1;32mas\u001b[0m \u001b[0mcbook\u001b[0m\u001b[1;33m\u001b[0m\u001b[0m\n\u001b[0;32m     34\u001b[0m \u001b[1;32mimport\u001b[0m \u001b[0mmatplotlib\u001b[0m\u001b[1;33m.\u001b[0m\u001b[0mcollections\u001b[0m \u001b[1;32mas\u001b[0m \u001b[0mcollections\u001b[0m\u001b[1;33m\u001b[0m\u001b[0m\n",
      "\u001b[1;32m/usr/local/lib/python3.4/dist-packages/matplotlib/artist.py\u001b[0m in \u001b[0;36m<module>\u001b[1;34m()\u001b[0m\n\u001b[0;32m     12\u001b[0m \u001b[1;32mfrom\u001b[0m \u001b[0mmatplotlib\u001b[0m\u001b[1;33m.\u001b[0m\u001b[0mcbook\u001b[0m \u001b[1;32mimport\u001b[0m \u001b[0mmplDeprecation\u001b[0m\u001b[1;33m\u001b[0m\u001b[0m\n\u001b[0;32m     13\u001b[0m \u001b[1;32mfrom\u001b[0m \u001b[0mmatplotlib\u001b[0m \u001b[1;32mimport\u001b[0m \u001b[0mdocstring\u001b[0m\u001b[1;33m,\u001b[0m \u001b[0mrcParams\u001b[0m\u001b[1;33m\u001b[0m\u001b[0m\n\u001b[1;32m---> 14\u001b[1;33m from .transforms import (Bbox, IdentityTransform, TransformedBbox,\n\u001b[0m\u001b[0;32m     15\u001b[0m                          TransformedPath, Transform)\n\u001b[0;32m     16\u001b[0m \u001b[1;32mfrom\u001b[0m \u001b[1;33m.\u001b[0m\u001b[0mpath\u001b[0m \u001b[1;32mimport\u001b[0m \u001b[0mPath\u001b[0m\u001b[1;33m\u001b[0m\u001b[0m\n",
      "\u001b[1;32m/usr/local/lib/python3.4/dist-packages/matplotlib/transforms.py\u001b[0m in \u001b[0;36m<module>\u001b[1;34m()\u001b[0m\n\u001b[0;32m     37\u001b[0m \u001b[1;32mimport\u001b[0m \u001b[0mnumpy\u001b[0m \u001b[1;32mas\u001b[0m \u001b[0mnp\u001b[0m\u001b[1;33m\u001b[0m\u001b[0m\n\u001b[0;32m     38\u001b[0m \u001b[1;32mfrom\u001b[0m \u001b[0mnumpy\u001b[0m \u001b[1;32mimport\u001b[0m \u001b[0mma\u001b[0m\u001b[1;33m\u001b[0m\u001b[0m\n\u001b[1;32m---> 39\u001b[1;33m from matplotlib._path import (affine_transform, count_bboxes_overlapping_bbox,\n\u001b[0m\u001b[0;32m     40\u001b[0m     update_path_extents)\n\u001b[0;32m     41\u001b[0m \u001b[1;32mfrom\u001b[0m \u001b[0mnumpy\u001b[0m\u001b[1;33m.\u001b[0m\u001b[0mlinalg\u001b[0m \u001b[1;32mimport\u001b[0m \u001b[0minv\u001b[0m\u001b[1;33m\u001b[0m\u001b[0m\n",
      "\u001b[1;31mImportError\u001b[0m: numpy.core.multiarray failed to import"
     ]
    }
   ],
   "source": [
    "import cv2\n",
    "import numpy as np\n",
    "import matplotlib.pyplot as plt\n",
    "% matplotlib inline"
   ]
  },
  {
   "cell_type": "code",
   "execution_count": null,
   "metadata": {
    "collapsed": false
   },
   "outputs": [],
   "source": [
    "inputImg = cv2.imread('image072915B.jpeg',cv2.IMREAD_COLOR)\n",
    "\n",
    "inputImg = cv2.cvtColor(inputImg,cv2.COLOR_BGR2RGB)\n",
    "grayImg = cv2.cvtColor(inputImg,cv2.COLOR_RGB2GRAY)\n",
    "labImg = cv2.cvtColor(inputImg,cv2.COLOR_RGB2LAB)"
   ]
  },
  {
   "cell_type": "code",
   "execution_count": null,
   "metadata": {
    "collapsed": false
   },
   "outputs": [],
   "source": [
    "plt.figure(1,figsize=(10,8))\n",
    "plt.imshow(inputImg)\n",
    "plt.title('Input Image (RGB)')\n",
    "plt.show(block=False)"
   ]
  },
  {
   "cell_type": "code",
   "execution_count": null,
   "metadata": {
    "collapsed": false
   },
   "outputs": [],
   "source": [
    "aImg = labImg[:,:,1] # Range of a is 0-255 (as opposed to -127 to 127); offset of 128 added\n",
    "plt.figure(2,figsize=(10,8))\n",
    "plt.imshow(aImg,cmap='Greys_r')\n",
    "plt.title('a* channel')\n",
    "plt.show(block=False)"
   ]
  },
  {
   "cell_type": "code",
   "execution_count": null,
   "metadata": {
    "collapsed": false
   },
   "outputs": [],
   "source": [
    "max_a_val = np.max(aImg)\n",
    "min_a_val = np.min(aImg)\n",
    "\n",
    "# print(\"max a* value = %f\" %(max_a_val))\n",
    "# print(\"min a* value = %f\" %(min_a_val))\n",
    "\n",
    "otsu_val,otsu_img = cv2.threshold(aImg,0,255,cv2.THRESH_BINARY+cv2.THRESH_OTSU)\n",
    "\n",
    "\n",
    "# print(\"threshold a* value = %f\" %(otsu_val))"
   ]
  },
  {
   "cell_type": "code",
   "execution_count": null,
   "metadata": {
    "collapsed": false
   },
   "outputs": [],
   "source": [
    "plt.figure(3,figsize=(10,8))\n",
    "plt.imshow(otsu_img,cmap='Greys_r')\n",
    "plt.title('Otsu thresholded image')\n",
    "plt.show(block=False)"
   ]
  },
  {
   "cell_type": "markdown",
   "metadata": {},
   "source": [
    "## Detecting blobs"
   ]
  },
  {
   "cell_type": "code",
   "execution_count": null,
   "metadata": {
    "collapsed": false
   },
   "outputs": [],
   "source": [
    "# Finding connected components\n",
    "num,labeled_img,stats,centroids = cv2.connectedComponentsWithStats(otsu_img)"
   ]
  },
  {
   "cell_type": "code",
   "execution_count": null,
   "metadata": {
    "collapsed": false
   },
   "outputs": [],
   "source": [
    "print(\"stats (leftmost index,topmost index, width,height, area) of the connected components\\n\\n\")\n",
    "print(stats)"
   ]
  },
  {
   "cell_type": "code",
   "execution_count": null,
   "metadata": {
    "collapsed": false,
    "scrolled": true
   },
   "outputs": [],
   "source": [
    "# filtering connected components by area\n",
    "areas = stats[:,4]\n",
    "\n",
    "# desired area between 10^4 and 10^6\n",
    "filtered_areas = np.logical_and(np.greater(areas,10**4), np.less(areas,10**6))"
   ]
  },
  {
   "cell_type": "code",
   "execution_count": null,
   "metadata": {
    "collapsed": false
   },
   "outputs": [],
   "source": [
    "blob_centers = centroids[filtered_areas]\n",
    "blob_areas = areas[filtered_areas]\n",
    "\n",
    "# check on number of blobs detected\n",
    "if np.shape(blob_centers)[0]<7:\n",
    "    print(\"Too few blobs detected\")\n",
    "elif np.shape(blob_centers)[0]>9:\n",
    "    print(\"Too many blobs detected\")"
   ]
  },
  {
   "cell_type": "code",
   "execution_count": null,
   "metadata": {
    "collapsed": false
   },
   "outputs": [],
   "source": [
    "# calculating the mean and the standard deviation for the blob centers\n",
    "centroid_mean = np.mean(blob_centers,0)\n",
    "centroid_x_std = np.std(blob_centers,0)\n",
    "\n",
    "distance_threshold = centroid_x_std*.6\n",
    "\n",
    "# coordinates relative to the blob centers\n",
    "relative_centers = blob_centers-centroid_mean # x and y orientation are reversed"
   ]
  },
  {
   "cell_type": "code",
   "execution_count": null,
   "metadata": {
    "collapsed": false
   },
   "outputs": [],
   "source": [
    "# print(blob_centers)\n",
    "# print(centroid_mean)\n",
    "# print(centroid_x_std)\n",
    "# print(relative_centers)\n",
    "# print(distance_threshold)\n",
    "\n"
   ]
  },
  {
   "cell_type": "markdown",
   "metadata": {},
   "source": [
    "## Assigning the coordinates for each grid vertex"
   ]
  },
  {
   "cell_type": "code",
   "execution_count": null,
   "metadata": {
    "collapsed": false
   },
   "outputs": [],
   "source": [
    "# Assigning row and column indices to each blob, and hence the center coordinates for each location in the 3*3 grid\n",
    "\n",
    "num_blobs = np.shape(relative_centers)[0]\n",
    "blob_indices = np.empty((num_blobs,2),dtype=np.int16)\n",
    "\n",
    "grid_centers = -np.ones((3,3,2))\n",
    "\n",
    "for i in range(0,num_blobs):\n",
    "    x_val = relative_centers[i,1]\n",
    "    if x_val<-distance_threshold[1]:\n",
    "        blob_indices[i,0] = 0\n",
    "    elif x_val>distance_threshold[1]:\n",
    "        blob_indices[i,0] = 2\n",
    "    else:\n",
    "        blob_indices[i,0] = 1\n",
    "    \n",
    "    y_val = relative_centers[i,0]\n",
    "    if y_val<-distance_threshold[0]:\n",
    "        blob_indices[i,1] = 0\n",
    "    elif y_val>distance_threshold[0]:\n",
    "        blob_indices[i,1] = 2\n",
    "    else:\n",
    "        blob_indices[i,1] = 1\n",
    "        \n",
    "    grid_centers[blob_indices[i,0],blob_indices[i,1],:]=[blob_centers[i,1],blob_centers[i,0]]"
   ]
  },
  {
   "cell_type": "code",
   "execution_count": null,
   "metadata": {
    "collapsed": false
   },
   "outputs": [],
   "source": [
    "# Estimate centers for unrecognised blobs\n",
    "\n",
    "# Note: Using the prior knowledge of the structure of blobs to get the top left blob center\n",
    "# TODO: generalize it for any unrecognized blob\n",
    "\n",
    "\n",
    "# Estimating using horizontal edge\n",
    "slope1 = grid_centers[0,2,:] - grid_centers[0,1,:]\n",
    "intercept1 = grid_centers[0,1,:]-slope1\n",
    "\n",
    "# Estimating using vertical edge\n",
    "slope2 = grid_centers[2,0,:] - grid_centers[1,0,:]\n",
    "intercept2 = grid_centers[1,0,:]-slope2\n",
    "\n",
    "\n",
    "# Averaging both the estimates\n",
    "grid_centers[0,0,:] = 0.5*(intercept1+intercept2)\n",
    "\n",
    "\n"
   ]
  },
  {
   "cell_type": "code",
   "execution_count": null,
   "metadata": {
    "collapsed": false
   },
   "outputs": [],
   "source": [
    "#print(blob_indices)\n",
    "#print(grid_centers[:,:,0])\n",
    "#print(grid_centers[:,:,1])"
   ]
  },
  {
   "cell_type": "markdown",
   "metadata": {},
   "source": [
    "## Defining mask for extracting the intensities of interest\n",
    "\n",
    "Note: a square mask is used for each blob"
   ]
  },
  {
   "cell_type": "code",
   "execution_count": null,
   "metadata": {
    "collapsed": false
   },
   "outputs": [],
   "source": [
    "# Estimating the areas for a mask (using geometry to estimate area of a square bounded in a circle)\n",
    "min_blob_area = np.min(blob_areas)\n",
    "mask_area = min_blob_area/3.5\n",
    "\n",
    "\n",
    "# defining a square mask\n",
    "mask_edge = mask_area**0.5\n",
    "mask_travel = int(np.floor(mask_edge/2))"
   ]
  },
  {
   "cell_type": "code",
   "execution_count": null,
   "metadata": {
    "collapsed": false
   },
   "outputs": [],
   "source": [
    "mask = np.zeros((np.shape(inputImg)[0],np.shape(inputImg)[1]),dtype=np.uint8)\n",
    "\n",
    "# contains the rgb image section for each blob\n",
    "mean_intensity = np.zeros((3,3))\n",
    "\n",
    "for row_index in range(0,3):\n",
    "    for col_index in range(0,3):\n",
    "        x = int(np.round(grid_centers[row_index,col_index,0]))\n",
    "        y = int(np.round(grid_centers[row_index,col_index,1]))\n",
    "        mask[x-mask_travel:x+mask_travel,y-mask_travel:y+mask_travel] = 255\n",
    "        mean_intensity[row_index,col_index] = np.mean( \\\n",
    "            grayImg[x-mask_travel:x+mask_travel,y-mask_travel:y+mask_travel])\n",
    "    \n",
    "neg_mask = 255-mask\n",
    "    \n",
    "masked_img = cv2.bitwise_and(inputImg,inputImg,mask=mask)\n",
    "leftover_img = cv2.bitwise_and(inputImg,inputImg,mask=neg_mask)"
   ]
  },
  {
   "cell_type": "code",
   "execution_count": null,
   "metadata": {
    "collapsed": false
   },
   "outputs": [],
   "source": [
    "print(mean_intensity)"
   ]
  },
  {
   "cell_type": "code",
   "execution_count": null,
   "metadata": {
    "collapsed": false
   },
   "outputs": [],
   "source": [
    "plt.figure(4,figsize=(10,8))\n",
    "plt.imshow(leftover_img)\n",
    "plt.title('Masked regions')\n",
    "plt.show(block=False)"
   ]
  },
  {
   "cell_type": "code",
   "execution_count": null,
   "metadata": {
    "collapsed": false
   },
   "outputs": [],
   "source": []
  },
  {
   "cell_type": "markdown",
   "metadata": {},
   "source": [
    "##  Estimating the standard curve"
   ]
  },
  {
   "cell_type": "code",
   "execution_count": null,
   "metadata": {
    "collapsed": false
   },
   "outputs": [],
   "source": [
    "# Defining conc Matrix using known value\n",
    "# conc_mat = np.array([[0,np.nan,1000],[62.5,np.nan,500],[125,np.nan,250]])\n",
    "conc_mat = np.array([[0,np.nan,1000],[62.5,np.nan,500],[125,np.nan,250]])\n",
    "\n",
    "logconc_mat = np.log(conc_mat)"
   ]
  },
  {
   "cell_type": "code",
   "execution_count": null,
   "metadata": {
    "collapsed": false
   },
   "outputs": [],
   "source": [
    "# Solving the linear equation between intensity and log-concentration (Srandard curve)\n",
    "\n",
    "# counting the number of conc values available for linear regression\n",
    "valid_list = list()\n",
    "for row_index in range(0,3):\n",
    "    for col_index in range(0,3):\n",
    "        if not(np.isinf(logconc_mat[row_index,col_index]) or np.isnan(logconc_mat[row_index,col_index])):\n",
    "            valid_list.append((row_index,col_index))"
   ]
  },
  {
   "cell_type": "code",
   "execution_count": null,
   "metadata": {
    "collapsed": false
   },
   "outputs": [],
   "source": [
    "num_valid = len(valid_list)\n",
    "\n",
    "# Performing linear regression\n",
    "xData = np.empty(num_valid)\n",
    "yData = np.empty(num_valid)\n",
    "\n",
    "for i in range(0,num_valid):\n",
    "    row_index, col_index = valid_list[i]\n",
    "    yData[i] = mean_intensity[row_index,col_index]\n",
    "    xData[i] = logconc_mat[row_index,col_index]\n"
   ]
  },
  {
   "cell_type": "code",
   "execution_count": null,
   "metadata": {
    "collapsed": false
   },
   "outputs": [],
   "source": [
    "# Solving the linear equation\n",
    "A = np.vstack([xData, np.ones(len(xData))]).T\n",
    "m, c = np.linalg.lstsq(A, yData)[0]\n",
    "\n",
    "linear_inp = np.linspace(logconc_mat[1,0],logconc_mat[0,2],100)\n",
    "linear_out = m*linear_inp+c"
   ]
  },
  {
   "cell_type": "code",
   "execution_count": null,
   "metadata": {
    "collapsed": false
   },
   "outputs": [],
   "source": [
    "print(\"Slope = %f\" %m)\n",
    "print(\"intercept = %f\" %c)\n",
    "\n",
    "print(logconc_mat)"
   ]
  },
  {
   "cell_type": "code",
   "execution_count": null,
   "metadata": {
    "collapsed": false
   },
   "outputs": [],
   "source": [
    "plt.figure(6,figsize=(10,8))\n",
    "plt.scatter(xData,yData)\n",
    "plt.plot(linear_inp,linear_out)\n",
    "plt.xlabel('log concentration')\n",
    "plt.ylabel('Intensities')\n",
    "plt.title('Scatter plot and estimated standard curve')\n",
    "# Plotting the regression result\n",
    "plt.show(block=False)"
   ]
  },
  {
   "cell_type": "code",
   "execution_count": null,
   "metadata": {
    "collapsed": false
   },
   "outputs": [],
   "source": [
    "# Estimating on control points\n",
    "\n",
    "# solving for QC1\n",
    "exp_val_qc1 = 156\n",
    "row_index = 2\n",
    "col_index = 1\n",
    "\n",
    "intensity = mean_intensity[row_index,col_index]\n",
    "logconc = (intensity-c)/m\n",
    "calc_val_qc1 = np.exp(logconc)\n",
    "\n",
    "\n",
    "# solving for QC2\n",
    "exp_val_qc2 = 750\n",
    "row_index = 0\n",
    "col_index = 1\n",
    "\n",
    "intensity = mean_intensity[row_index,col_index]\n",
    "logconc = (intensity-c)/m\n",
    "calc_val_qc2 = np.exp(logconc)\n",
    "\n",
    "\n",
    "# Calculating deviation in values obtained\n",
    "dev_1 = abs((exp_val_qc1-calc_val_qc1)/(exp_val_qc1))\n",
    "dev_2 = abs((exp_val_qc2-calc_val_qc2)/(exp_val_qc2))"
   ]
  },
  {
   "cell_type": "code",
   "execution_count": null,
   "metadata": {
    "collapsed": false
   },
   "outputs": [],
   "source": [
    "print('Calculated intensity for QC1: %f' %(calc_val_qc1))\n",
    "print('Calculated intensity for QC1: %f' %calc_val_qc2)\n",
    "\n",
    "print('percent deviation for QC1: %f' %(dev_1))\n",
    "print('percent deviation for QC2: %f' %(dev_2))"
   ]
  },
  {
   "cell_type": "code",
   "execution_count": null,
   "metadata": {
    "collapsed": true
   },
   "outputs": [],
   "source": [
    "plt.show()"
   ]
  }
 ],
 "metadata": {
  "kernelspec": {
   "display_name": "Python 3",
   "language": "python",
   "name": "python3"
  },
  "language_info": {
   "codemirror_mode": {
    "name": "ipython",
    "version": 3
   },
   "file_extension": ".py",
   "mimetype": "text/x-python",
   "name": "python",
   "nbconvert_exporter": "python",
   "pygments_lexer": "ipython3",
   "version": "3.4.3+"
  },
  "latex_envs": {
   "bibliofile": "biblio.bib",
   "cite_by": "apalike",
   "current_citInitial": 1,
   "eqLabelWithNumbers": true,
   "eqNumInitial": 0
  },
  "toc": {
   "toc_cell": false,
   "toc_number_sections": true,
   "toc_threshold": 6,
   "toc_window_display": false
  }
 },
 "nbformat": 4,
 "nbformat_minor": 0
}
